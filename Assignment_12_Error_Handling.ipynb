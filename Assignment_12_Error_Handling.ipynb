{
 "cells": [
  {
   "cell_type": "raw",
   "id": "3a53e08d-4ae1-44e1-abb2-024cc516e3a9",
   "metadata": {},
   "source": [
    "Q1. What is an Exeption in pthon? Write the difference between Exceptions and syntax errors.\n",
    "\n",
    "Q2. What happens when an exception is not handled? Explain with an example.\n",
    "\n",
    "Q3. Which Python statements are used to catch and handle exceptions? Explain with an example\n",
    "\n",
    "Q4. Explain with an example:# try and else # finally + rise\n",
    "Q5. What are Custom Exceptions in python? Why do we need Custom Exceptions? Explain with an example\n",
    "\n",
    "Q6. Create custom exception class. Use this class to handle an exception."
   ]
  },
  {
   "cell_type": "markdown",
   "id": "fb582e09-45ba-446c-8308-061e6ce7c4bb",
   "metadata": {},
   "source": [
    "### Q1. What is an Exception in python? Write the difference between Exceptions and syntax errors."
   ]
  },
  {
   "cell_type": "markdown",
   "id": "079cb623-2100-46bc-8adc-df7195f5d726",
   "metadata": {},
   "source": [
    "In Python, an exception is an event that occurs during the execution of a program, which disrupts the normal flow of the program’s instructions. When a Python script comes across a condition it can’t handle, it raises an exception. An exception is a Python object that represents an error.\n",
    "\n",
    "On the other hand, syntax errors, also known as parsing errors, are perhaps the most common kind of complaint you get while you are still learning Python. Syntax errors occur when the parser detects an incorrect statement. For example, a syntax error would occur if you try to use a Python keyword as a variable name, or if you forget to close a parenthesis.\n",
    "\n",
    "Here are the key differences between exceptions and syntax errors:\n",
    "\n",
    "Occurrence: Syntax errors occur when the code is parsed, i.e., before the program is run6789. Exceptions occur during the execution of the program.\n",
    "\n",
    "Handling: Syntax errors are not handled by the code, they have to be corrected by the programmer6789. Exceptions, on the other hand, can be handled by the code using try and except blocks.\n",
    "\n",
    "Examples: A missing parenthesis, an incorrect indentation, or a misspelled variable name could cause a syntax error. An attempt to open a non-existent file, divide by zero, or access a non-existent dictionary key could raise an exception.\n"
   ]
  },
  {
   "cell_type": "code",
   "execution_count": null,
   "id": "53d1657e-65b6-4395-9940-501b515916f4",
   "metadata": {},
   "outputs": [],
   "source": []
  },
  {
   "cell_type": "markdown",
   "id": "b9135c5a-d181-4c90-bbc2-bc2238d4c58a",
   "metadata": {},
   "source": [
    "### Q2. What happens when an exception is not handled? Explain with an example.\n"
   ]
  },
  {
   "cell_type": "markdown",
   "id": "8e639306-c9dd-4591-9f4f-1e28acbac529",
   "metadata": {},
   "source": [
    "When an exception is not handled, the Python interpreter stops the program and prints a traceback to the error along with some details about why that error occurred.\n",
    "Here’s an example of what happens when an exception is not handled:"
   ]
  },
  {
   "cell_type": "code",
   "execution_count": 1,
   "id": "4cd4c82c-7538-4179-9d4b-99e85bdf2e99",
   "metadata": {},
   "outputs": [
    {
     "ename": "ZeroDivisionError",
     "evalue": "division by zero",
     "output_type": "error",
     "traceback": [
      "\u001b[0;31m---------------------------------------------------------------------------\u001b[0m",
      "\u001b[0;31mZeroDivisionError\u001b[0m                         Traceback (most recent call last)",
      "Cell \u001b[0;32mIn[1], line 4\u001b[0m\n\u001b[1;32m      1\u001b[0m \u001b[38;5;28;01mdef\u001b[39;00m \u001b[38;5;21mdivide_numbers\u001b[39m(x, y):\n\u001b[1;32m      2\u001b[0m     \u001b[38;5;28;01mreturn\u001b[39;00m x \u001b[38;5;241m/\u001b[39m y\n\u001b[0;32m----> 4\u001b[0m \u001b[38;5;28mprint\u001b[39m(\u001b[43mdivide_numbers\u001b[49m\u001b[43m(\u001b[49m\u001b[38;5;241;43m10\u001b[39;49m\u001b[43m,\u001b[49m\u001b[43m \u001b[49m\u001b[38;5;241;43m0\u001b[39;49m\u001b[43m)\u001b[49m)\n",
      "Cell \u001b[0;32mIn[1], line 2\u001b[0m, in \u001b[0;36mdivide_numbers\u001b[0;34m(x, y)\u001b[0m\n\u001b[1;32m      1\u001b[0m \u001b[38;5;28;01mdef\u001b[39;00m \u001b[38;5;21mdivide_numbers\u001b[39m(x, y):\n\u001b[0;32m----> 2\u001b[0m     \u001b[38;5;28;01mreturn\u001b[39;00m \u001b[43mx\u001b[49m\u001b[43m \u001b[49m\u001b[38;5;241;43m/\u001b[39;49m\u001b[43m \u001b[49m\u001b[43my\u001b[49m\n",
      "\u001b[0;31mZeroDivisionError\u001b[0m: division by zero"
     ]
    }
   ],
   "source": [
    "def divide_numbers(x, y):\n",
    "    return x / y\n",
    "\n",
    "print(divide_numbers(10, 0))\n"
   ]
  },
  {
   "cell_type": "markdown",
   "id": "cd84d932-b5c9-48a5-ba7f-e7bb15484961",
   "metadata": {
    "jp-MarkdownHeadingCollapsed": true,
    "tags": []
   },
   "source": [
    "In this example, we’re trying to divide a number by zero, which is not allowed in mathematics. This raises a ZeroDivisionError exception. Since we’re not handling this exception in our code, the program will terminate."
   ]
  },
  {
   "cell_type": "code",
   "execution_count": 2,
   "id": "306ec36e-ae0c-4f15-823d-3a956cd8691f",
   "metadata": {},
   "outputs": [],
   "source": []
  },
  {
   "cell_type": "code",
   "execution_count": null,
   "id": "80b323c5-8aff-4eb1-b9d2-f919c5916389",
   "metadata": {},
   "outputs": [],
   "source": []
  },
  {
   "cell_type": "markdown",
   "id": "005a0cd7-ee12-4748-a94c-8a8e3a566b74",
   "metadata": {},
   "source": [
    "### Q3. Which Python statements are used to catch and handle exceptions? Explain with an example."
   ]
  },
  {
   "cell_type": "markdown",
   "id": "28c8947a-25cb-46bb-a79b-7da4ecc906af",
   "metadata": {},
   "source": [
    "In Python, exceptions are caught and handled using the try, except, and optionally finally statements.\n",
    "\n",
    "Here’s a brief explanation of these statements:\n",
    "\n",
    "try: This block contains the code that might raise an exception1234.\n",
    "\n",
    "except: This block contains the code that handles the exception1234. It is executed if an exception occurs in the try block1234.\n",
    "\n",
    "finally (optional): This block contains the code that is always executed regardless of whether an exception occurred or not"
   ]
  },
  {
   "cell_type": "code",
   "execution_count": 3,
   "id": "f4cfdc1a-a2b1-40e5-bf9b-5402e202de27",
   "metadata": {},
   "outputs": [
    {
     "name": "stdout",
     "output_type": "stream",
     "text": [
      "You can't divide by zero!\n",
      "End of the program.\n"
     ]
    }
   ],
   "source": [
    "try:\n",
    "    # Code that may raise an exception\n",
    "    x = 1 / 0\n",
    "except ZeroDivisionError:\n",
    "    # Handle the exception\n",
    "    print(\"You can't divide by zero!\")\n",
    "finally:\n",
    "    # This code is always executed\n",
    "    print(\"End of the program.\")\n"
   ]
  },
  {
   "cell_type": "markdown",
   "id": "e7d8ccda-d90f-4791-9ec0-08f55b2f7c7a",
   "metadata": {},
   "source": [
    "In this example, we’re trying to divide a number by zero, which raises a ZeroDivisionError exception. The except block catches this exception and prints a message to the user. Regardless of whether an exception occurred, the finally block is executed and prints \"End of the program.\""
   ]
  },
  {
   "cell_type": "code",
   "execution_count": null,
   "id": "b18ccbd6-7f84-4113-a22a-4076d12c1941",
   "metadata": {},
   "outputs": [],
   "source": []
  },
  {
   "cell_type": "code",
   "execution_count": null,
   "id": "f3f643e7-4b0a-4cf6-a40d-8a1dc78294ce",
   "metadata": {},
   "outputs": [],
   "source": []
  },
  {
   "cell_type": "markdown",
   "id": "3678907e-0d1d-4f7f-93a0-3ce362923e42",
   "metadata": {},
   "source": [
    "### Q4. Explain with an example: a. try and else b. finally c. rise"
   ]
  },
  {
   "cell_type": "markdown",
   "id": "431a7e10-9c78-4224-b9f7-bb4e594e8c3b",
   "metadata": {},
   "source": [
    "\n",
    "a) try and else: The try block contains code that might raise an exception. If an exception occurs, the try block is exited, and the except block is executed. If no exception occurs, the else block is executed. \n",
    "Here’s an example:"
   ]
  },
  {
   "cell_type": "code",
   "execution_count": 4,
   "id": "a61a79bb-846c-4cad-8a1a-b3bed3c74776",
   "metadata": {},
   "outputs": [
    {
     "name": "stdin",
     "output_type": "stream",
     "text": [
      "Enter a number:  kj\n"
     ]
    },
    {
     "name": "stdout",
     "output_type": "stream",
     "text": [
      "That's not a valid number!\n"
     ]
    }
   ],
   "source": [
    "try:\n",
    "    num = int(input(\"Enter a number: \"))\n",
    "    print(\"You entered:\", num)\n",
    "except ValueError:\n",
    "    print(\"That's not a valid number!\")\n",
    "else:\n",
    "    print(\"No exception occurred.\")\n"
   ]
  },
  {
   "cell_type": "code",
   "execution_count": null,
   "id": "afab5be9-da01-4c8c-8ca7-5813ed762b82",
   "metadata": {},
   "outputs": [],
   "source": []
  },
  {
   "cell_type": "markdown",
   "id": "c605601c-be98-4542-b53d-37d90454d7f0",
   "metadata": {},
   "source": [
    "b) finally: The finally block contains code that is always executed, regardless of whether an exception occurred or not. \n",
    "Here’s an example:"
   ]
  },
  {
   "cell_type": "code",
   "execution_count": 5,
   "id": "eb7a9121-774c-456d-a176-2af5f4c58e40",
   "metadata": {},
   "outputs": [
    {
     "name": "stdin",
     "output_type": "stream",
     "text": [
      "Enter a number:  hii\n"
     ]
    },
    {
     "name": "stdout",
     "output_type": "stream",
     "text": [
      "That's not a valid number!\n",
      "This is always executed.\n"
     ]
    }
   ],
   "source": [
    "try:\n",
    "    num = int(input(\"Enter a number: \"))\n",
    "    print(\"You entered:\", num)\n",
    "except ValueError:\n",
    "    print(\"That's not a valid number!\")\n",
    "finally:\n",
    "    print(\"This is always executed.\")\n"
   ]
  },
  {
   "cell_type": "markdown",
   "id": "98a351cb-cce0-458c-8ea1-3018564e42e6",
   "metadata": {},
   "source": [
    "c) raise: The raise keyword is used to raise an exception. You can define what kind of error to raise, and the text to print to the user. \n",
    "Here’s an example:"
   ]
  },
  {
   "cell_type": "code",
   "execution_count": 6,
   "id": "7577e328-bcf8-479e-bd69-53bcbebd0cb2",
   "metadata": {},
   "outputs": [
    {
     "ename": "TypeError",
     "evalue": "Only integers are allowed",
     "output_type": "error",
     "traceback": [
      "\u001b[0;31m---------------------------------------------------------------------------\u001b[0m",
      "\u001b[0;31mTypeError\u001b[0m                                 Traceback (most recent call last)",
      "Cell \u001b[0;32mIn[6], line 3\u001b[0m\n\u001b[1;32m      1\u001b[0m x \u001b[38;5;241m=\u001b[39m \u001b[38;5;124m\"\u001b[39m\u001b[38;5;124mhello\u001b[39m\u001b[38;5;124m\"\u001b[39m\n\u001b[1;32m      2\u001b[0m \u001b[38;5;28;01mif\u001b[39;00m \u001b[38;5;129;01mnot\u001b[39;00m \u001b[38;5;28mtype\u001b[39m(x) \u001b[38;5;129;01mis\u001b[39;00m \u001b[38;5;28mint\u001b[39m:\n\u001b[0;32m----> 3\u001b[0m     \u001b[38;5;28;01mraise\u001b[39;00m \u001b[38;5;167;01mTypeError\u001b[39;00m(\u001b[38;5;124m\"\u001b[39m\u001b[38;5;124mOnly integers are allowed\u001b[39m\u001b[38;5;124m\"\u001b[39m)\n",
      "\u001b[0;31mTypeError\u001b[0m: Only integers are allowed"
     ]
    }
   ],
   "source": [
    "x = \"hello\"\n",
    "if not type(x) is int:\n",
    "    raise TypeError(\"Only integers are allowed\")\n"
   ]
  },
  {
   "cell_type": "code",
   "execution_count": null,
   "id": "aa255150-0c95-467a-8cf3-04c8c37b8088",
   "metadata": {},
   "outputs": [],
   "source": []
  },
  {
   "cell_type": "code",
   "execution_count": null,
   "id": "ab3bffd2-4fc0-4171-97fb-3f79021c6b3c",
   "metadata": {},
   "outputs": [],
   "source": []
  },
  {
   "cell_type": "markdown",
   "id": "2a15ebea-c176-4bfa-9713-b0093b52936e",
   "metadata": {},
   "source": [
    "### Q5. What are Custom Exceptions in python? Why do we need Custom Exceptions? Explain with an example"
   ]
  },
  {
   "cell_type": "markdown",
   "id": "8d3410ad-f223-4c2e-a078-c4a5c30f1d80",
   "metadata": {},
   "source": [
    "Custom Exceptions in Python: Custom exceptions in Python are user-defined exceptions that are created when the built-in exceptions are not sufficient to handle certain error conditions. These exceptions are defined by creating a new class that inherits from the built-in Exception class or one of its subclasses."
   ]
  },
  {
   "cell_type": "markdown",
   "id": "c2753aef-9447-4dcb-b28a-77c26b8c3ee6",
   "metadata": {},
   "source": [
    "Need of Custom Exceptions: Custom exceptions are useful in the following situations5:\n",
    "\n",
    "1. When you wish to deal with something specific and particular in your code/software.\n",
    "2. When you want to include additional information when an exception is raised.\n",
    "3. When you want to improve code readability, which can help you maintain your code among other benefits\n",
    "\n",
    "Here’s an example:"
   ]
  },
  {
   "cell_type": "code",
   "execution_count": 7,
   "id": "55158f50-7eea-4d53-8ea7-999e0465be8c",
   "metadata": {},
   "outputs": [
    {
     "name": "stdin",
     "output_type": "stream",
     "text": [
      "Enter your age:  16\n"
     ]
    },
    {
     "ename": "UnderageError",
     "evalue": "You must be at least 18 years old.",
     "output_type": "error",
     "traceback": [
      "\u001b[0;31m---------------------------------------------------------------------------\u001b[0m",
      "\u001b[0;31mUnderageError\u001b[0m                             Traceback (most recent call last)",
      "Cell \u001b[0;32mIn[7], line 7\u001b[0m\n\u001b[1;32m      5\u001b[0m age \u001b[38;5;241m=\u001b[39m \u001b[38;5;28mint\u001b[39m(\u001b[38;5;28minput\u001b[39m(\u001b[38;5;124m\"\u001b[39m\u001b[38;5;124mEnter your age: \u001b[39m\u001b[38;5;124m\"\u001b[39m))\n\u001b[1;32m      6\u001b[0m \u001b[38;5;28;01mif\u001b[39;00m age \u001b[38;5;241m<\u001b[39m \u001b[38;5;241m18\u001b[39m:\n\u001b[0;32m----> 7\u001b[0m     \u001b[38;5;28;01mraise\u001b[39;00m UnderageError(\u001b[38;5;124m\"\u001b[39m\u001b[38;5;124mYou must be at least 18 years old.\u001b[39m\u001b[38;5;124m\"\u001b[39m)\n\u001b[1;32m      8\u001b[0m \u001b[38;5;28;01melse\u001b[39;00m:\n\u001b[1;32m      9\u001b[0m     \u001b[38;5;28mprint\u001b[39m(\u001b[38;5;124m\"\u001b[39m\u001b[38;5;124mYou are eligible.\u001b[39m\u001b[38;5;124m\"\u001b[39m)\n",
      "\u001b[0;31mUnderageError\u001b[0m: You must be at least 18 years old."
     ]
    }
   ],
   "source": [
    "class UnderageError(Exception):\n",
    "    \"\"\"Raised when the input age is less than 18\"\"\"\n",
    "    pass\n",
    "\n",
    "age = int(input(\"Enter your age: \"))\n",
    "if age < 18:\n",
    "    raise UnderageError(\"You must be at least 18 years old.\")\n",
    "else:\n",
    "    print(\"You are eligible.\")\n"
   ]
  },
  {
   "cell_type": "markdown",
   "id": "620fe24e-ef2a-427e-92b7-1d77b4fdc5cb",
   "metadata": {},
   "source": [
    "In this example, if the user enters an age less than 18, the UnderageError exception is raised with a custom message. This makes the error more understandable and easier to debug."
   ]
  },
  {
   "cell_type": "code",
   "execution_count": null,
   "id": "38f95d53-4e9d-463a-8001-46becb0e3e52",
   "metadata": {},
   "outputs": [],
   "source": []
  },
  {
   "cell_type": "markdown",
   "id": "d5d4065c-b5f5-4943-8616-bd2a7218a7dc",
   "metadata": {},
   "source": [
    "### Q6. Create custom exception class. Use this class to handle an exception."
   ]
  },
  {
   "cell_type": "code",
   "execution_count": 9,
   "id": "dbfb3bda-2fce-4c1d-83e5-c9010899590b",
   "metadata": {},
   "outputs": [
    {
     "name": "stdin",
     "output_type": "stream",
     "text": [
      "Enter your age:  12\n"
     ]
    },
    {
     "ename": "UnderageError",
     "evalue": "You must be at least 18 years old.",
     "output_type": "error",
     "traceback": [
      "\u001b[0;31m---------------------------------------------------------------------------\u001b[0m",
      "\u001b[0;31mUnderageError\u001b[0m                             Traceback (most recent call last)",
      "Cell \u001b[0;32mIn[9], line 7\u001b[0m\n\u001b[1;32m      5\u001b[0m age \u001b[38;5;241m=\u001b[39m \u001b[38;5;28mint\u001b[39m(\u001b[38;5;28minput\u001b[39m(\u001b[38;5;124m\"\u001b[39m\u001b[38;5;124mEnter your age: \u001b[39m\u001b[38;5;124m\"\u001b[39m))\n\u001b[1;32m      6\u001b[0m \u001b[38;5;28;01mif\u001b[39;00m age \u001b[38;5;241m<\u001b[39m \u001b[38;5;241m18\u001b[39m:\n\u001b[0;32m----> 7\u001b[0m     \u001b[38;5;28;01mraise\u001b[39;00m UnderageError(\u001b[38;5;124m\"\u001b[39m\u001b[38;5;124mYou must be at least 18 years old.\u001b[39m\u001b[38;5;124m\"\u001b[39m)\n\u001b[1;32m      8\u001b[0m \u001b[38;5;28;01melse\u001b[39;00m:\n\u001b[1;32m      9\u001b[0m     \u001b[38;5;28mprint\u001b[39m(\u001b[38;5;124m\"\u001b[39m\u001b[38;5;124mYou are eligible.\u001b[39m\u001b[38;5;124m\"\u001b[39m)\n",
      "\u001b[0;31mUnderageError\u001b[0m: You must be at least 18 years old."
     ]
    }
   ],
   "source": [
    "class UnderageError(Exception):\n",
    "    \"\"\"Raised when the input age is less than 18\"\"\"\n",
    "    pass\n",
    "\n",
    "age = int(input(\"Enter your age: \"))\n",
    "if age < 18:\n",
    "    raise UnderageError(\"You must be at least 18 years old.\")\n",
    "else:\n",
    "    print(\"You are eligible.\")"
   ]
  },
  {
   "cell_type": "code",
   "execution_count": null,
   "id": "037e21eb-7a97-46f7-9171-9a9574c12358",
   "metadata": {},
   "outputs": [],
   "source": []
  }
 ],
 "metadata": {
  "kernelspec": {
   "display_name": "Python 3 (ipykernel)",
   "language": "python",
   "name": "python3"
  },
  "language_info": {
   "codemirror_mode": {
    "name": "ipython",
    "version": 3
   },
   "file_extension": ".py",
   "mimetype": "text/x-python",
   "name": "python",
   "nbconvert_exporter": "python",
   "pygments_lexer": "ipython3",
   "version": "3.10.8"
  }
 },
 "nbformat": 4,
 "nbformat_minor": 5
}
